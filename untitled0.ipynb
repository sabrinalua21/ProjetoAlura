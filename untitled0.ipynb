{
  "nbformat": 4,
  "nbformat_minor": 0,
  "metadata": {
    "colab": {
      "provenance": [],
      "authorship_tag": "ABX9TyPhkumNJT8brPIw1OjXi5eb",
      "include_colab_link": true
    },
    "kernelspec": {
      "name": "python3",
      "display_name": "Python 3"
    },
    "language_info": {
      "name": "python"
    }
  },
  "cells": [
    {
      "cell_type": "markdown",
      "metadata": {
        "id": "view-in-github",
        "colab_type": "text"
      },
      "source": [
        "<a href=\"https://colab.research.google.com/github/sabrinalua21/ProjetoAlura/blob/main/untitled0.ipynb\" target=\"_parent\"><img src=\"https://colab.research.google.com/assets/colab-badge.svg\" alt=\"Open In Colab\"/></a>"
      ]
    },
    {
      "cell_type": "markdown",
      "source": [
        "\"JogoQuimicaAnimado\""
      ],
      "metadata": {
        "id": "dQ0lf7J2Ljj2"
      }
    },
    {
      "cell_type": "code",
      "source": [
        "def tela_inicial():\n",
        "  print(\"******************************\")\n",
        "  print(\"** Aventura Química Animada! **\")\n",
        "  print(\"******************************\")\n",
        "  print(\" \")\n",
        "  print(\"Escolha seu personagem:\")\n",
        "  print(\"1. Sakura\")\n",
        "  print(\"2. Patrulha Canina\")\n",
        "  print(\"3. Finn e Jake\")\n",
        "  print(\"4. Bob Esponja\")\n",
        "  print(\" \")"
      ],
      "metadata": {
        "id": "Jdlr5e8lL3In"
      },
      "execution_count": null,
      "outputs": []
    },
    {
      "cell_type": "code",
      "source": [
        "def jogo_sakura():\n",
        "  print(\"Você escolheu a Sakura! Prepare-se para balancear equações químicas!\")\n",
        "  # Implementar a lógica do jogo da Sakura aqui\n",
        "\n",
        "def jogo_patrulha_canina():\n",
        "  print(\"Você escolheu a Patrulha Canina! Prepare-se para identificar íons!\")\n",
        "  # Implementar a lógica do jogo da Patrulha Canina aqui\n",
        "\n",
        "def jogo_finn_jake():\n",
        "  print(\"Você escolheu Finn e Jake! Prepare-se para desvendar a Tabela Periódica!\")\n",
        "  # Implementar a lógica do jogo do Finn e Jake aqui\n",
        "\n",
        "def jogo_bob_esponja():\n",
        "  print(\"Você escolheu Bob Esponja! Prepare-se para uma aventura culinária com reações químicas!\")\n",
        "  # Implementar a lógica do jogo do Bob Esponja aqui"
      ],
      "metadata": {
        "id": "cF1fNLDfMb-K"
      },
      "execution_count": null,
      "outputs": []
    },
    {
      "cell_type": "code",
      "source": [
        "tela_inicial()  # Chama a função da Tela Inicial\n",
        "\n",
        "escolha_personagem = input(\"Digite o número do personagem escolhido: \")\n",
        "\n",
        "# Usa uma estrutura condicional para direcionar para a tela do jogo escolhido\n",
        "if escolha_personagem == \"1\":\n",
        "  jogo_sakura()\n",
        "elif escolha_personagem == \"2\":\n",
        "  jogo_patrulha_canina()\n",
        "elif escolha_personagem == \"3\":\n",
        "  jogo_finn_jake()\n",
        "elif escolha_personagem == \"4\":\n",
        "  jogo_bob_esponja()\n",
        "else:\n",
        "  print(\"Escolha inválida. Tente novamente.\")\n",
        "  tela_inicial()  # Retorna à Tela Inicial"
      ],
      "metadata": {
        "colab": {
          "base_uri": "https://localhost:8080/"
        },
        "id": "pmtAG1V2MgVH",
        "outputId": "e0a20486-d56f-448d-f754-2657cf94e66c"
      },
      "execution_count": null,
      "outputs": [
        {
          "output_type": "stream",
          "name": "stdout",
          "text": [
            "******************************\n",
            "** Aventura Química Animada! **\n",
            "******************************\n",
            " \n",
            "Escolha seu personagem:\n",
            "1. Sakura\n",
            "2. Patrulha Canina\n",
            "3. Finn e Jake\n",
            "4. Bob Esponja\n",
            " \n",
            "Digite o número do personagem escolhido: 4\n",
            "******************************\n",
            "** Cozinha do Siri Cascudo **\n",
            "******************************\n",
            "\n",
            "Sirigueijo: Bob Esponja, preste atenção! Montar um hambúrguer de siri é uma REAÇÃO QUÍMICA!\n",
            "\n",
            "Ingredientes:\n",
            "Pão, Carne, Alface, Tomate, Queijo\n",
            "Escolha o ingrediente 1: 1\n",
            "\n",
            "Patrick: Uau, picles! Me dá um?\n",
            "Sirigueijo: Patrick, não é hora de picles! Bob Esponja, continue!\n",
            "\n",
            "Ingredientes:\n",
            "Pão, Carne, Alface, Tomate, Queijo\n",
            "Escolha o ingrediente 2: 2\n",
            "\n",
            "Patrick: Uau, picles! Me dá um?\n",
            "Sirigueijo: Patrick, não é hora de picles! Bob Esponja, continue!\n",
            "\n",
            "Ingredientes:\n",
            "Pão, Carne, Alface, Tomate, Queijo\n",
            "Escolha o ingrediente 3: 3\n",
            "\n",
            "Patrick: Uau, picles! Me dá um?\n",
            "Sirigueijo: Patrick, não é hora de picles! Bob Esponja, continue!\n",
            "\n",
            "Ingredientes:\n",
            "Pão, Carne, Alface, Tomate, Queijo\n",
            "Escolha o ingrediente 4: 4\n",
            "\n",
            "Patrick: Uau, picles! Me dá um?\n",
            "Sirigueijo: Patrick, não é hora de picles! Bob Esponja, continue!\n",
            "\n",
            "Ingredientes:\n",
            "Pão, Carne, Alface, Tomate, Queijo\n",
            "Escolha o ingrediente 5: pão \n",
            "\n",
            "Patrick: Uau, picles! Me dá um?\n",
            "Sirigueijo: Patrick, não é hora de picles! Bob Esponja, continue!\n",
            "\n",
            "Ingredientes:\n",
            "Pão, Carne, Alface, Tomate, Queijo\n",
            "Escolha o ingrediente 6: carne\n",
            "\n",
            "Patrick: Uau, picles! Me dá um?\n",
            "Sirigueijo: Patrick, não é hora de picles! Bob Esponja, continue!\n",
            "\n",
            "Sirigueijo: Bob Esponja, você errou a ordem dos ingredientes! O hambúrguer está horrível!\n"
          ]
        }
      ]
    },
    {
      "cell_type": "markdown",
      "source": [],
      "metadata": {
        "id": "M7stxoYAbDmf"
      }
    },
    {
      "cell_type": "code",
      "source": [
        "def jogo_sakura():\n",
        "  print(\"******************************\")\n",
        "  print(\"** Enfermaria de Konoha **\")\n",
        "  print(\"******************************\")\n",
        "  print(\"\\nSakura: Kakashi-sensei, preciso de ajuda para balancear esta equação química e preparar o antídoto!\")\n",
        "  print(\"\\nH₂ + O₂ → H₂O\") # Exemplo de equação: formação da água\n",
        "  print(\"\\nQuais os coeficientes corretos para balancear a equação?\")"
      ],
      "metadata": {
        "id": "DfmD3hOBMvU3"
      },
      "execution_count": null,
      "outputs": []
    },
    {
      "cell_type": "code",
      "source": [
        "  coef_h2 = input(\"Coeficiente de H₂: \")\n",
        "  coef_o2 = input(\"Coeficiente de O₂: \")\n",
        "  coef_h2o = input(\"Coeficiente de H₂O: \")"
      ],
      "metadata": {
        "colab": {
          "base_uri": "https://localhost:8080/"
        },
        "id": "H0wVY14YNRTi",
        "outputId": "250fcb58-7b06-41b4-c3d1-1afab85c06d4"
      },
      "execution_count": null,
      "outputs": [
        {
          "name": "stdout",
          "output_type": "stream",
          "text": [
            "Coeficiente de H₂: 2\n",
            "Coeficiente de O₂: 1\n",
            "Coeficiente de H₂O: 2\n"
          ]
        }
      ]
    },
    {
      "cell_type": "code",
      "source": [
        "def verificar_resposta(coef_h2, coef_o2, coef_h2o):\n",
        "  if coef_h2 == \"2\" and coef_o2 == \"1\" and coef_h2o == \"2\":\n",
        "    print(\"\\nCorreto! Você balanceou a equação! O antídoto está pronto!\")\n",
        "    # Implementar sistema de pontuação aqui (opcional)\n",
        "  else:\n",
        "    print(\"\\nResposta incorreta. Tente novamente!\")\n",
        "    print(\"Dica: Observe a quantidade de átomos de cada elemento nos dois lados da equação.\")\n",
        "    # Implementar um sistema de dicas mais elaborado (opcional)"
      ],
      "metadata": {
        "id": "_YcL9f4pNlns"
      },
      "execution_count": null,
      "outputs": []
    },
    {
      "cell_type": "code",
      "source": [
        "def jogo_sakura():\n",
        "  # ... (código do Passo 1 e Passo 2)\n",
        "\n",
        "  verificar_resposta(coef_h2, coef_o2, coef_h2o)"
      ],
      "metadata": {
        "id": "vHU6X97JNpHF"
      },
      "execution_count": null,
      "outputs": []
    },
    {
      "cell_type": "code",
      "source": [
        "def jogo_patrulha_canina():\n",
        "  print(\"******************************\")\n",
        "  print(\"** Torre da Patrulha Canina **\")\n",
        "  print(\"******************************\")\n",
        "  print(\"\\nRyder: Filhotes, precisamos consertar a rede elétrica!\")\n",
        "  print(\"Identifiquem os elementos que formam íons para conectar os cabos.\")\n",
        "\n",
        "  # Dicionário com os elementos e seus respectivos íons\n",
        "  elementos_ions = {\n",
        "      \"Na\": \"Na⁺\", # Cátion\n",
        "      \"Cl\": \"Cl⁻\", # Ânion\n",
        "      \"Mg\": \"Mg²⁺\", # Cátion\n",
        "      \"O\": \"O²⁻\"  # Ânion\n",
        "  }\n",
        "\n",
        "  # Simulação da rede elétrica (três cabos para conectar)\n",
        "  cabos = {\n",
        "      \"Cabo 1\": None,\n",
        "      \"Cabo 2\": None,\n",
        "      \"Cabo 3\": None\n",
        "  }\n",
        "\n",
        "  # Loop para cada cabo da rede elétrica\n",
        "  for cabo in cabos:\n",
        "    print(\"\\n---\", cabo, \"---\")\n",
        "    print(\"Escolha um elemento para conectar o cabo:\")\n",
        "    for elemento in elementos_ions:\n",
        "      print(elemento)\n",
        "\n",
        "    escolha_elemento = input(\"Digite o símbolo do elemento: \")\n",
        "\n",
        "    # Verificar se a escolha do jogador forma um íon\n",
        "    if escolha_elemento in elementos_ions:\n",
        "      cabos[cabo] = elementos_ions[escolha_elemento] # Conecta o íon ao cabo\n",
        "      print(f\"{cabos[cabo]} conectado ao {cabo}!\")\n",
        "    else:\n",
        "      print(\"Este elemento não forma um íon. Tente novamente!\")\n",
        "      # Retorna ao início do loop para o mesmo cabo\n",
        "      cabos[cabo] = None\n",
        "\n",
        "  # Verificação dos cabos (agora dentro da função)\n",
        "  if all(cabos.values()):  # Verifica se todos os cabos têm um íon conectado\n",
        "    print(\"\\nRyder: Excelente trabalho, filhotes! A rede elétrica está consertada!\")\n",
        "    # Implementar sistema de pontuação aqui (opcional)\n",
        "  else:\n",
        "    print(\"\\nRyder: Alguns cabos ainda estão desconectados. Vamos tentar novamente!\")\n",
        "    # Implementar um sistema de dicas ou reiniciar o desafio (opcional)"
      ],
      "metadata": {
        "id": "arN3i3jmQGqK"
      },
      "execution_count": null,
      "outputs": []
    },
    {
      "cell_type": "code",
      "source": [
        "def jogo_finn_jake():\n",
        "  print(\"******************************\")\n",
        "  print(\"** Floresta de Ooo **\")\n",
        "  print(\"******************************\")\n",
        "  print(\"\\nPrincesa Jujuba: Finn, Jake, preciso de ajuda para organizar os ingredientes da minha nova poção!\")\n",
        "  print(\"Organizem os elementos mágicos na Tabela Periódica.\")\n",
        "\n",
        "  # Dicionário com alguns elementos e suas posições na tabela periódica (simplificado)\n",
        "  tabela_periodica = {\n",
        "      \"H\": (1, 1),  # Hidrogênio: Período 1, Grupo 1\n",
        "      \"He\": (1, 18), # Hélio: Período 1, Grupo 18\n",
        "      \"Li\": (2, 1),  # Lítio: Período 2, Grupo 1\n",
        "      \"Be\": (2, 2),  # Berílio: Período 2, Grupo 2\n",
        "      \"B\": (2, 13),  # Boro: Período 2, Grupo 13\n",
        "      \"C\": (2, 14),  # Carbono: Período 2, Grupo 14\n",
        "      \"N\": (2, 15),  # Nitrogênio: Período 2, Grupo 15\n",
        "      \"O\": (2, 16)   # Oxigênio: Período 2, Grupo 16\n",
        "      # Adicione mais elementos conforme necessário\n",
        "  }\n",
        "\n",
        "  # Simulação da tabela periódica (uma lista para cada período)\n",
        "  periodos = {\n",
        "      1: [\"   \"] * 18, # Período 1 com 18 posições (representando os grupos)\n",
        "      2: [\"   \"] * 18  # Período 2 com 18 posições\n",
        "      # Adicione mais períodos conforme necessário\n",
        "  }\n",
        "\n",
        "  # Loop para cada elemento\n",
        "  for elemento in tabela_periodica:\n",
        "    print(f\"\\n-- Elemento Mágico: {elemento} --\")\n",
        "    periodo = input(f\"Em qual período o {elemento} está localizado? \")\n",
        "    grupo = input(f\"Em qual grupo o {elemento} está localizado? \")\n",
        "\n",
        "    # Converter input para inteiro\n",
        "    try:\n",
        "      periodo = int(periodo)\n",
        "      grupo = int(grupo)\n",
        "    except ValueError:\n",
        "      print(\"Entrada inválida. Digite números inteiros para o período e grupo.\")\n",
        "      continue # Pula para o próximo elemento\n",
        "\n",
        "    # Verificar se o período e o grupo são válidos\n",
        "    if periodo in periodos and 0 < grupo <= 18:\n",
        "      posicao = grupo - 1 # Ajustar para indexação da lista (começa em 0)\n",
        "      periodos[periodo][posicao] = elemento # Coloca o elemento na posição correta\n",
        "      print(f\"Elemento {elemento} colocado na Tabela Periódica!\")\n",
        "    else:\n",
        "      print(\"Posição inválida na Tabela Periódica. Tente novamente!\")\n",
        "\n",
        "  # Exibir a Tabela Periódica\n",
        "  print(\"\\n--- Tabela Periódica ---\")\n",
        "  for periodo, elementos in periodos.items():\n",
        "    print(f\"Período {periodo}: {elementos}\")\n",
        "\n",
        "  # Verificação da tabela (agora dentro da função)\n",
        "  if all(elemento != \"   \" for periodo in periodos.values() for elemento in periodo):\n",
        "    print(\"\\nPrincesa Jujuba: Excelente trabalho! A Tabela Periódica está completa! Minha poção está pronta!\")\n",
        "    # Implementar sistema de pontuação aqui (opcional)\n",
        "  else:\n",
        "    print(\"\\nPrincesa Jujuba: Faltam alguns elementos na Tabela Periódica. Vamos tentar novamente!\")\n",
        "    # Implementar sistema de dicas ou reiniciar o desafio (opcional)"
      ],
      "metadata": {
        "id": "Qng8XDc3VnkS"
      },
      "execution_count": null,
      "outputs": []
    },
    {
      "cell_type": "code",
      "source": [
        "def jogo_bob_esponja():\n",
        "  print(\"******************************\")\n",
        "  print(\"** Cozinha do Siri Cascudo **\")\n",
        "  print(\"******************************\")\n",
        "  print(\"\\nSirigueijo: Bob Esponja, preste atenção! Montar um hambúrguer de siri é uma REAÇÃO QUÍMICA!\")\n",
        "\n",
        "  # Lista de ingredientes na ordem correta\n",
        "  receita_correta = [\"Pão\", \"Carne\", \"Alface\", \"Tomate\", \"Queijo\", \"Pão\"]\n",
        "\n",
        "  # Lista para armazenar a ordem dos ingredientes escolhidos pelo jogador\n",
        "  hamburguer = []\n",
        "\n",
        "  # Loop para o jogador escolher os ingredientes\n",
        "  for i in range(len(receita_correta)):\n",
        "    print(\"\\nIngredientes:\")\n",
        "    print(\"Pão, Carne, Alface, Tomate, Queijo\") # Exibir os ingredientes disponíveis\n",
        "    escolha_ingrediente = input(f\"Escolha o ingrediente {i+1}: \").capitalize() # Primeira letra maiúscula\n",
        "\n",
        "    hamburguer.append(escolha_ingrediente) # Adiciona o ingrediente à lista\n",
        "\n",
        "    # Interação com Patrick (opcional)\n",
        "    if escolha_ingrediente != receita_correta[i]:\n",
        "      print(\"\\nPatrick: Uau, picles! Me dá um?\")\n",
        "      print(\"Sirigueijo: Patrick, não é hora de picles! Bob Esponja, continue!\")\n",
        "\n",
        "  # Verificar se o hambúrguer foi montado corretamente\n",
        "  if hamburguer == receita_correta:\n",
        "    print(\"\\nSirigueijo: Excelente, Bob Esponja! Você montou o hambúrguer perfeito!\")\n",
        "    print(\"Patrick: Hmmm, hambúrguer de siri!\")\n",
        "    # Implementar sistema de pontuação aqui (opcional)\n",
        "  else:\n",
        "    print(\"\\nSirigueijo: Bob Esponja, você errou a ordem dos ingredientes! O hambúrguer está horrível!\")\n",
        "    # Implementar sistema de dicas ou reiniciar o desafio (opcional)"
      ],
      "metadata": {
        "id": "u5vMBaKMXM0m"
      },
      "execution_count": null,
      "outputs": []
    }
  ]
}